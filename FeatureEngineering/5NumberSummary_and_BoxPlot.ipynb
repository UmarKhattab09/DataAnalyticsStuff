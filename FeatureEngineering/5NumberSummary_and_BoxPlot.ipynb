{
  "nbformat": 4,
  "nbformat_minor": 0,
  "metadata": {
    "colab": {
      "provenance": [],
      "authorship_tag": "ABX9TyN+xNun04VCzumRMT4s+u1E",
      "include_colab_link": true
    },
    "kernelspec": {
      "name": "python3",
      "display_name": "Python 3"
    },
    "language_info": {
      "name": "python"
    }
  },
  "cells": [
    {
      "cell_type": "markdown",
      "metadata": {
        "id": "view-in-github",
        "colab_type": "text"
      },
      "source": [
        "<a href=\"https://colab.research.google.com/github/UmarKhattab09/DataAnalyticsStuff/blob/main/FeatureEngineering/5NumberSummary_and_BoxPlot.ipynb\" target=\"_parent\"><img src=\"https://colab.research.google.com/assets/colab-badge.svg\" alt=\"Open In Colab\"/></a>"
      ]
    },
    {
      "cell_type": "markdown",
      "source": [
        "### 5 Number Sumarry\n",
        "- Minimum\n",
        "- Maximum\n",
        "- Median\n",
        "- Q1\n",
        "- Q3\n",
        "- IQR"
      ],
      "metadata": {
        "id": "cRPBiDI7ygrL"
      }
    },
    {
      "cell_type": "code",
      "source": [
        "import numpy as np\n",
        "marks = [42,32,56,75,89,54,32,89,90,87,67,54,45,98,67,74] #NO OUTLIER\n",
        "minimum,Q1,median,Q3,maximum = np.quantile(marks,[0,0.25,0.50,0.75,1])"
      ],
      "metadata": {
        "id": "sCFun9qZ1i8N"
      },
      "execution_count": 6,
      "outputs": []
    },
    {
      "cell_type": "code",
      "source": [
        "minimum,Q1,median,Q3,maximum"
      ],
      "metadata": {
        "colab": {
          "base_uri": "https://localhost:8080/"
        },
        "id": "wMtUREAv15b2",
        "outputId": "933c0eb4-08c1-4b49-8f96-728eb8da7e28"
      },
      "execution_count": 7,
      "outputs": [
        {
          "output_type": "execute_result",
          "data": {
            "text/plain": [
              "(np.float64(32.0),\n",
              " np.float64(51.75),\n",
              " np.float64(67.0),\n",
              " np.float64(87.5),\n",
              " np.float64(98.0))"
            ]
          },
          "metadata": {},
          "execution_count": 7
        }
      ]
    },
    {
      "cell_type": "code",
      "source": [
        "IQR=Q3-Q1\n",
        "LF = Q1-1.5*(IQR)\n",
        "HF = Q3+1.5*(IQR)"
      ],
      "metadata": {
        "id": "t_hhAD9F2ntv"
      },
      "execution_count": 9,
      "outputs": []
    },
    {
      "cell_type": "code",
      "source": [
        "LF,HF"
      ],
      "metadata": {
        "colab": {
          "base_uri": "https://localhost:8080/"
        },
        "id": "KhmUnhob26ZL",
        "outputId": "108c7b5f-462e-4802-83f5-15160015b26f"
      },
      "execution_count": 10,
      "outputs": [
        {
          "output_type": "execute_result",
          "data": {
            "text/plain": [
              "(np.float64(-1.875), np.float64(141.125))"
            ]
          },
          "metadata": {},
          "execution_count": 10
        }
      ]
    },
    {
      "cell_type": "code",
      "source": [
        "marks = [42,32,56,75,89,54,32,89,90,87,67,54,45,98,67,74] #NO OUTLIER\n",
        "#BoxPlot\n",
        "import seaborn as sns\n",
        "sns.boxplot(marks)"
      ],
      "metadata": {
        "colab": {
          "base_uri": "https://localhost:8080/",
          "height": 429
        },
        "id": "Ocfh1JPc29XD",
        "outputId": "854397f3-ed58-4b48-bed3-c4f8aec08962"
      },
      "execution_count": 11,
      "outputs": [
        {
          "output_type": "execute_result",
          "data": {
            "text/plain": [
              "<Axes: >"
            ]
          },
          "metadata": {},
          "execution_count": 11
        },
        {
          "output_type": "display_data",
          "data": {
            "text/plain": [
              "<Figure size 640x480 with 1 Axes>"
            ],
            "image/png": "[encoded data removed]"
          },
          "metadata": {}
        }
      ]
    },
    {
      "cell_type": "code",
      "source": [
        "marks = [-150,-100,42,32,56,75,89,54,32,89,90,87,67,54,45,98,67,74,150,200,300] #OUTLIER\n",
        "sns.boxplot(marks)\n",
        "## BOXPLOT DOES ALL THE 5SUMMARY CALCULATION AND SHOW THE OUTLIERS IF THERE ARE"
      ],
      "metadata": {
        "colab": {
          "base_uri": "https://localhost:8080/",
          "height": 429
        },
        "id": "7fMe9wkL3HT7",
        "outputId": "60162e02-2e11-4c12-ec23-468fe67f917c"
      },
      "execution_count": 17,
      "outputs": [
        {
          "output_type": "execute_result",
          "data": {
            "text/plain": [
              "<Axes: >"
            ]
          },
          "metadata": {},
          "execution_count": 17
        },
        {
          "output_type": "display_data",
          "data": {
            "text/plain": [
              "<Figure size 640x480 with 1 Axes>"
            ],
            "image/png": "[encoded data removed]"
          },
          "metadata": {}
        }
      ]
    }
  ]
}